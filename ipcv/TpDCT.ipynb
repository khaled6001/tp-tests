{
 "cells": [
  {
   "cell_type": "code",
   "execution_count": 43,
   "metadata": {
    "ExecuteTime": {
     "end_time": "2024-04-03T09:07:04.633851Z",
     "start_time": "2024-04-03T09:06:57.820250Z"
    }
   },
   "outputs": [],
   "source": [
    "import numpy as np\n",
    "import matplotlib.pyplot as plt\n",
    "import cv2\n",
    "from tqdm.notebook import trange"
   ]
  },
  {
   "cell_type": "markdown",
   "metadata": {},
   "source": [
    "***import image***"
   ]
  },
  {
   "cell_type": "code",
   "execution_count": 44,
   "metadata": {
    "ExecuteTime": {
     "end_time": "2024-04-03T09:07:05.257366Z",
     "start_time": "2024-04-03T09:07:04.721031Z"
    }
   },
   "outputs": [
    {
     "data": {
      "image/png": "[encoded data removed]",
      "text/plain": [
       "<Figure size 640x480 with 1 Axes>"
      ]
     },
     "metadata": {},
     "output_type": "display_data"
    },
    {
     "name": "stdout",
     "output_type": "stream",
     "text": [
      "Image shape: (72, 72)\n"
     ]
    }
   ],
   "source": [
    "I = cv2.imread(\"icon01.png\", 1)\n",
    "I = cv2.cvtColor(I, cv2.COLOR_RGB2GRAY)\n",
    "plt.imshow(I, cmap=\"gray\")\n",
    "plt.axis(\"off\")\n",
    "plt.show()\n",
    "print(\"Image shape:\", I.shape)"
   ]
  },
  {
   "cell_type": "code",
   "execution_count": 45,
   "metadata": {
    "ExecuteTime": {
     "end_time": "2024-04-03T13:03:05.651840Z",
     "start_time": "2024-04-03T13:03:05.440653Z"
    }
   },
   "outputs": [],
   "source": [
    "# I = cv2.resize(I,(160, 160))\n",
    "# plt.imshow(I, cmap = \"gray\");plt.axis(\"off\")\n",
    "# I.shape"
   ]
  },
  {
   "cell_type": "markdown",
   "metadata": {},
   "source": [
    "***Base function***"
   ]
  },
  {
   "cell_type": "code",
   "execution_count": 46,
   "metadata": {
    "ExecuteTime": {
     "end_time": "2024-04-03T13:03:23.591139Z",
     "start_time": "2024-04-03T13:03:20.028658Z"
    }
   },
   "outputs": [
    {
     "data": {
      "application/vnd.jupyter.widget-view+json": {
       "model_id": "6296852516b048d4b017428c432fce6c",
       "version_major": 2,
       "version_minor": 0
      },
      "text/plain": [
       "  0%|          | 0/8 [00:00<?, ?it/s]"
      ]
     },
     "metadata": {},
     "output_type": "display_data"
    },
    {
     "data": {
      "image/png": "[encoded data removed]",
      "text/plain": [
       "<Figure size 1000x800 with 64 Axes>"
      ]
     },
     "metadata": {},
     "output_type": "display_data"
    }
   ],
   "source": [
    "coef_base = np.zeros((8, 8, 8, 8))\n",
    "for u in trange(8):\n",
    "    for v in range(8):\n",
    "        for x in range(8):\n",
    "            for y in range(8):\n",
    "                coef_base[u, v, x, y] = np.cos(((2 * x + 1) * u * np.pi) / 16) * np.cos(((2 * y + 1) * v * np.pi) / 16)\n",
    "fig, axes = plt.subplots(8, 8, figsize=(10, 8))\n",
    "for u in range(8):\n",
    "    for v in range(8):\n",
    "        axes[u, v].imshow(coef_base[u, v], cmap=\"gray\")\n",
    "        axes[u, v].axis(\"off\")\n",
    "plt.show()"
   ]
  },
  {
   "cell_type": "markdown",
   "metadata": {},
   "source": [
    "***Base quantizition***"
   ]
  },
  {
   "cell_type": "code",
   "execution_count": 47,
   "metadata": {
    "ExecuteTime": {
     "end_time": "2024-04-03T13:03:23.612210Z",
     "start_time": "2024-04-03T13:03:23.594492Z"
    }
   },
   "outputs": [],
   "source": [
    "def QQC(degree):\n",
    "    newQ = np.zeros((8, 8), dtype=np.uint8)\n",
    "    if 1 < degree < 50:\n",
    "        for i in range(8):\n",
    "            for j in range(8):\n",
    "                newQ[i, j] = np.clip((50 / degree) * Q[i, j], 0, 255)\n",
    "        return newQ\n",
    "    elif 50 < degree < 100:\n",
    "        for i in range(8):\n",
    "            for j in range(8):\n",
    "                newQ[i, j] = np.clip(((100 - degree) / 50) * Q[i, j], 0, 255)\n",
    "        return newQ\n",
    "    elif degree == 50:\n",
    "        return Q\n",
    "    else:\n",
    "        return \"sorry but not possible\"\n",
    "\n",
    "Q = np.array([[16, 11, 10, 16, 24, 40, 51, 61],\n",
    "              [12, 12, 14, 19, 26, 58, 60, 55],\n",
    "              [14, 13, 16, 24, 40, 57, 69, 56],\n",
    "              [14, 17, 22, 29, 51, 87, 80, 62],\n",
    "              [18, 22, 37, 56, 68, 109, 103, 77],\n",
    "              [24, 35, 55, 64, 81, 104, 113, 92],\n",
    "              [49, 64, 78, 87, 103, 121, 120, 101],\n",
    "              [72, 92, 95, 98, 112, 100, 103, 99]])\n"
   ]
  },
  {
   "cell_type": "markdown",
   "metadata": {},
   "source": [
    "***Apply the DCT***"
   ]
  },
  {
   "cell_type": "code",
   "execution_count": 48,
   "metadata": {
    "ExecuteTime": {
     "end_time": "2024-04-03T13:03:23.628012Z",
     "start_time": "2024-04-03T13:03:23.615786Z"
    }
   },
   "outputs": [
    {
     "data": {
      "text/plain": [
       "array([[97, 97, 97, 97, 97, 97, 97, 97],\n",
       "       [97, 97, 97, 97, 97, 97, 97, 97],\n",
       "       [97, 97, 97, 97, 97, 97, 97, 97],\n",
       "       [97, 97, 97, 97, 97, 97, 97, 97],\n",
       "       [97, 97, 97, 97, 97, 97, 97, 97],\n",
       "       [97, 97, 97, 97, 97, 97, 97, 97],\n",
       "       [97, 97, 97, 97, 97, 97, 97, 97],\n",
       "       [97, 97, 97, 97, 97, 97, 97, 97]], dtype=uint8)"
      ]
     },
     "execution_count": 48,
     "metadata": {},
     "output_type": "execute_result"
    }
   ],
   "source": [
    "I[:8, :8]"
   ]
  },
  {
   "cell_type": "code",
   "execution_count": 49,
   "metadata": {
    "ExecuteTime": {
     "end_time": "2024-04-03T13:03:23.646060Z",
     "start_time": "2024-04-03T13:03:23.632823Z"
    }
   },
   "outputs": [],
   "source": [
    "num_blocks = (I.shape[0] // 8, I.shape[1] // 8)\n",
    "blocks = np.empty((num_blocks[0], num_blocks[1], 8, 8))\n",
    "for i, k in zip(range(0, num_blocks[0]), range(0, I.shape[0], 8)):\n",
    "    for j, l in zip(range(0, num_blocks[1]), range(0, I.shape[1], 8)):\n",
    "        blocks[i, j] = I[k:k + 8, l:l + 8]\n",
    "width, height, _, _ = blocks.shape"
   ]
  },
  {
   "cell_type": "code",
   "execution_count": 50,
   "metadata": {
    "ExecuteTime": {
     "end_time": "2024-04-03T13:03:23.660939Z",
     "start_time": "2024-04-03T13:03:23.648438Z"
    }
   },
   "outputs": [
    {
     "data": {
      "text/plain": [
       "array([[ 97.,  27.,  58., 141., 145., 144., 145., 144.],\n",
       "       [ 97.,  29.,  43., 135., 144., 144., 144., 144.],\n",
       "       [ 97.,  97.,  11., 128., 143., 143., 143., 143.],\n",
       "       [ 97.,  97.,   9., 114., 142., 143., 143., 143.],\n",
       "       [ 97.,  97.,  20.,  85., 139., 142., 142., 142.],\n",
       "       [ 97.,  97.,   5.,  40., 132., 141., 141., 141.],\n",
       "       [ 97.,  97.,  24.,  11., 121., 140., 140., 140.],\n",
       "       [ 97.,  97.,  97.,   1.,  87., 136., 140., 140.]])"
      ]
     },
     "execution_count": 50,
     "metadata": {},
     "output_type": "execute_result"
    }
   ],
   "source": [
    "blocks[5,0]"
   ]
  },
  {
   "cell_type": "code",
   "execution_count": 51,
   "metadata": {
    "ExecuteTime": {
     "end_time": "2024-04-03T13:03:37.426258Z",
     "start_time": "2024-04-03T13:03:23.663258Z"
    }
   },
   "outputs": [
    {
     "data": {
      "application/vnd.jupyter.widget-view+json": {
       "model_id": "ebf35a1e8fc648aca124d710ecc6db26",
       "version_major": 2,
       "version_minor": 0
      },
      "text/plain": [
       "  0%|          | 0/9 [00:00<?, ?it/s]"
      ]
     },
     "metadata": {},
     "output_type": "display_data"
    }
   ],
   "source": [
    "def DCT(arr):\n",
    "    width, height, _, _ = arr.shape\n",
    "    result = np.zeros_like(arr)\n",
    "    g_x = np.subtract(np.copy(arr), 128)\n",
    "    for row in trange(width):\n",
    "        for column in range(height):\n",
    "            for u in range(8):\n",
    "                au = 1\n",
    "                if u == 0: au = np.sqrt(1 / 2)\n",
    "                for v in range(8):\n",
    "                    sumGx = 0\n",
    "                    av = 1\n",
    "                    if v == 0: av = np.sqrt(1 / 2)\n",
    "                    for x in range(8):\n",
    "                        for y in range(8):\n",
    "                            sumGx += g_x[row, column, x, y] * np.cos(((2 * x + 1) * u * np.pi) / 16) * np.cos(((2 * y + 1) * v * np.pi) / 16)\n",
    "                    result[row, column, u, v] = (1/4) * au * av * sumGx\n",
    "    return result\n",
    "\n",
    "dctM = DCT(blocks)"
   ]
  },
  {
   "cell_type": "code",
   "execution_count": 52,
   "metadata": {
    "ExecuteTime": {
     "end_time": "2024-04-03T13:03:37.443210Z",
     "start_time": "2024-04-03T13:03:37.429420Z"
    }
   },
   "outputs": [
    {
     "data": {
      "text/plain": [
       "array([[-2.48000000e+02, -3.95663300e-14,  3.01457752e-14,\n",
       "        -1.50728876e-14, -5.02429587e-15, -8.03887339e-14,\n",
       "         4.96149217e-14,  2.52784886e-14],\n",
       "       [-1.13046657e-14, -7.10542736e-15,  0.00000000e+00,\n",
       "         8.88178420e-16,  0.00000000e+00,  0.00000000e+00,\n",
       "         1.33226763e-15,  4.44089210e-16],\n",
       "       [ 6.28036983e-15,  3.55271368e-15,  8.88178420e-16,\n",
       "         0.00000000e+00,  0.00000000e+00,  0.00000000e+00,\n",
       "         0.00000000e+00,  0.00000000e+00],\n",
       "       [-6.28036983e-15,  5.32907052e-15,  8.88178420e-16,\n",
       "         8.88178420e-16,  0.00000000e+00,  4.44089210e-16,\n",
       "         8.88178420e-16,  2.22044605e-16],\n",
       "       [ 3.76822190e-15,  8.88178420e-16,  8.88178420e-16,\n",
       "        -8.88178420e-16,  1.33226763e-15,  1.77635684e-15,\n",
       "        -4.44089210e-16, -2.22044605e-16],\n",
       "       [-9.04373256e-14, -2.66453526e-15, -3.99680289e-15,\n",
       "         2.22044605e-15, -4.44089210e-16,  4.44089210e-16,\n",
       "         2.44249065e-15, -1.11022302e-15],\n",
       "       [ 4.27065149e-14,  2.66453526e-15, -2.22044605e-15,\n",
       "         4.44089210e-16, -8.88178420e-16,  2.22044605e-15,\n",
       "        -1.99840144e-15,  1.77635684e-15],\n",
       "       [ 1.91551280e-14,  7.54951657e-15,  4.44089210e-16,\n",
       "         6.66133815e-16, -2.22044605e-16,  9.99200722e-16,\n",
       "        -5.55111512e-16,  1.83186799e-15]])"
      ]
     },
     "execution_count": 52,
     "metadata": {},
     "output_type": "execute_result"
    }
   ],
   "source": [
    "dctM[0,0]"
   ]
  },
  {
   "cell_type": "code",
   "execution_count": 53,
   "metadata": {
    "ExecuteTime": {
     "end_time": "2024-04-03T13:03:37.617585Z",
     "start_time": "2024-04-03T13:03:37.445213Z"
    }
   },
   "outputs": [],
   "source": [
    "def quantizition(arr, Q):\n",
    "    quant = QQC(Q)\n",
    "    totest = np.copy(arr)\n",
    "    finalStep = np.zeros_like(arr)\n",
    "    for i in range(width):\n",
    "        for j in range(height):\n",
    "            for x in range(8):\n",
    "                for y in range(8):\n",
    "                    finalStep[i, j, x, y] = round(totest[i, j, x, y] / quant[x, y])\n",
    "    return finalStep\n",
    "\n",
    "qun = quantizition(dctM, 50)"
   ]
  },
  {
   "cell_type": "code",
   "execution_count": 54,
   "metadata": {
    "ExecuteTime": {
     "end_time": "2024-04-03T13:03:37.630449Z",
     "start_time": "2024-04-03T13:03:37.619896Z"
    },
    "collapsed": false
   },
   "outputs": [
    {
     "data": {
      "text/plain": [
       "array([[-16.,   0.,   0.,   0.,   0.,   0.,   0.,   0.],\n",
       "       [  0.,   0.,   0.,   0.,   0.,   0.,   0.,   0.],\n",
       "       [  0.,   0.,   0.,   0.,   0.,   0.,   0.,   0.],\n",
       "       [  0.,   0.,   0.,   0.,   0.,   0.,   0.,   0.],\n",
       "       [  0.,   0.,   0.,   0.,   0.,   0.,   0.,   0.],\n",
       "       [  0.,   0.,   0.,   0.,   0.,   0.,   0.,   0.],\n",
       "       [  0.,   0.,   0.,   0.,   0.,   0.,   0.,   0.],\n",
       "       [  0.,   0.,   0.,   0.,   0.,   0.,   0.,   0.]])"
      ]
     },
     "execution_count": 54,
     "metadata": {},
     "output_type": "execute_result"
    }
   ],
   "source": [
    "qun[0,0]"
   ]
  },
  {
   "cell_type": "markdown",
   "metadata": {},
   "source": [
    "***reconstruct by 30, 50 and 70***"
   ]
  },
  {
   "cell_type": "code",
   "execution_count": 55,
   "metadata": {
    "ExecuteTime": {
     "end_time": "2024-04-03T13:03:37.803028Z",
     "start_time": "2024-04-03T13:03:37.638767Z"
    },
    "collapsed": false
   },
   "outputs": [],
   "source": [
    "def Iquantizition(arr, Q):\n",
    "    quant = QQC(Q)\n",
    "    totest = np.copy(arr)\n",
    "    finalStep = np.zeros_like(arr)\n",
    "    for i in range(width):\n",
    "        for j in range(height):\n",
    "            for x in range(8):\n",
    "                for y in range(8):\n",
    "                    finalStep[i, j, x, y] = round(totest[i, j, x, y] * quant[x, y])\n",
    "    return finalStep\n",
    "\n",
    "Iqun = quantizition(dctM, 50)"
   ]
  },
  {
   "cell_type": "code",
   "execution_count": 56,
   "metadata": {
    "ExecuteTime": {
     "end_time": "2024-04-03T13:06:16.074993Z",
     "start_time": "2024-04-03T13:06:16.063754Z"
    },
    "collapsed": false
   },
   "outputs": [
    {
     "data": {
      "text/plain": [
       "array([[-16.,   0.,   0.,   0.,   0.,   0.,   0.,   0.],\n",
       "       [  0.,   0.,   0.,   0.,   0.,   0.,   0.,   0.],\n",
       "       [  0.,   0.,   0.,   0.,   0.,   0.,   0.,   0.],\n",
       "       [  0.,   0.,   0.,   0.,   0.,   0.,   0.,   0.],\n",
       "       [  0.,   0.,   0.,   0.,   0.,   0.,   0.,   0.],\n",
       "       [  0.,   0.,   0.,   0.,   0.,   0.,   0.,   0.],\n",
       "       [  0.,   0.,   0.,   0.,   0.,   0.,   0.,   0.],\n",
       "       [  0.,   0.,   0.,   0.,   0.,   0.,   0.,   0.]])"
      ]
     },
     "execution_count": 56,
     "metadata": {},
     "output_type": "execute_result"
    }
   ],
   "source": [
    "Iqun[0, 0]"
   ]
  },
  {
   "cell_type": "code",
   "execution_count": 57,
   "metadata": {
    "ExecuteTime": {
     "end_time": "2024-04-03T13:03:37.826049Z",
     "start_time": "2024-04-03T13:03:37.806592Z"
    },
    "collapsed": false
   },
   "outputs": [],
   "source": [
    "def energy_left(arr, energy):\n",
    "    qunP = np.copy(arr)\n",
    "    leftEnergy = round(8*energy/100)\n",
    "    for i in range(width):\n",
    "        for j in range(height):\n",
    "            qunP[i, j, leftEnergy:] = 0\n",
    "            qunP[i, j, :, leftEnergy:] = 0\n",
    "    return qunP\n",
    "newImg_70 = energy_left(Iqun, 70)\n",
    "newImg_50 = energy_left(Iqun, 50)\n",
    "newImg_30 = energy_left(Iqun, 30)\n",
    "newImg = energy_left(Iqun, 100)"
   ]
  },
  {
   "cell_type": "markdown",
   "metadata": {},
   "source": [
    "***Apply the IDCT***"
   ]
  },
  {
   "cell_type": "code",
   "execution_count": 58,
   "metadata": {
    "ExecuteTime": {
     "end_time": "2024-04-03T13:03:37.840817Z",
     "start_time": "2024-04-03T13:03:37.828477Z"
    },
    "collapsed": false
   },
   "outputs": [],
   "source": [
    "def inv_DCT(arr):\n",
    "    width, height, _, _ = arr.shape\n",
    "    result = np.zeros_like(arr)\n",
    "    g_x = np.copy(arr)\n",
    "    for row in trange(width):\n",
    "        for column in range(height):\n",
    "            for u in range(8):\n",
    "                for v in range(8):\n",
    "                    sum_val = 0\n",
    "                    for x in range(8):\n",
    "                        for y in range(8):\n",
    "                            cu = 1 if u == 0 else np.sqrt(1/2)\n",
    "                            cv = 1 if v == 0 else np.sqrt(1/2)\n",
    "                            sum_val += cu * cv * g_x[row, column, x, y] * np.cos((2*x + 1) * u * np.pi / 16) * np.cos((2*y + 1) * v * np.pi / 16)\n",
    "\n",
    "                    result[row, column, u, v] = (1/4) * sum_val\n",
    "    result = np.add(result, 128)\n",
    "    return result.astype(np.uint8)"
   ]
  },
  {
   "cell_type": "code",
   "execution_count": 59,
   "metadata": {
    "ExecuteTime": {
     "end_time": "2024-04-03T13:04:24.887649Z",
     "start_time": "2024-04-03T13:03:37.843012Z"
    },
    "collapsed": false
   },
   "outputs": [
    {
     "data": {
      "application/vnd.jupyter.widget-view+json": {
       "model_id": "5deb8f3d19fb46ffbbef0e3903d80ecd",
       "version_major": 2,
       "version_minor": 0
      },
      "text/plain": [
       "  0%|          | 0/9 [00:00<?, ?it/s]"
      ]
     },
     "metadata": {},
     "output_type": "display_data"
    },
    {
     "data": {
      "application/vnd.jupyter.widget-view+json": {
       "model_id": "d7edb1c1aef942108d632020bab19605",
       "version_major": 2,
       "version_minor": 0
      },
      "text/plain": [
       "  0%|          | 0/9 [00:00<?, ?it/s]"
      ]
     },
     "metadata": {},
     "output_type": "display_data"
    },
    {
     "data": {
      "application/vnd.jupyter.widget-view+json": {
       "model_id": "a51c08e3e15748d4962d270f24afc94b",
       "version_major": 2,
       "version_minor": 0
      },
      "text/plain": [
       "  0%|          | 0/9 [00:00<?, ?it/s]"
      ]
     },
     "metadata": {},
     "output_type": "display_data"
    },
    {
     "data": {
      "application/vnd.jupyter.widget-view+json": {
       "model_id": "9834e8000b6a44af963599cff58669db",
       "version_major": 2,
       "version_minor": 0
      },
      "text/plain": [
       "  0%|          | 0/9 [00:00<?, ?it/s]"
      ]
     },
     "metadata": {},
     "output_type": "display_data"
    }
   ],
   "source": [
    "inv_dct_30 = inv_DCT(newImg_30)\n",
    "inv_dct_50 = inv_DCT(newImg_50)\n",
    "inv_dct_70 = inv_DCT(newImg_70)\n",
    "inv_dct = inv_DCT(qun)\n"
   ]
  },
  {
   "cell_type": "code",
   "execution_count": 60,
   "metadata": {
    "ExecuteTime": {
     "end_time": "2024-04-03T13:04:24.907241Z",
     "start_time": "2024-04-03T13:04:24.892852Z"
    },
    "collapsed": false
   },
   "outputs": [],
   "source": [
    "def restord(img):\n",
    "    cp = np.copy(img)\n",
    "    new_Img = np.empty((I.shape[0], I.shape[1]), dtype = np.uint8)\n",
    "    for i, k in zip(range(0, num_blocks[0]), range(0, I.shape[0], 8)):\n",
    "        for j, l in zip(range(0, num_blocks[1]), range(0, I.shape[1], 8)):\n",
    "            new_Img[k:k + 8, l:l + 8] = cp[i, j]\n",
    "    return new_Img"
   ]
  },
  {
   "cell_type": "code",
   "execution_count": 61,
   "metadata": {
    "ExecuteTime": {
     "end_time": "2024-04-03T13:04:24.929341Z",
     "start_time": "2024-04-03T13:04:24.911245Z"
    },
    "collapsed": false
   },
   "outputs": [],
   "source": [
    "new_Img = restord(inv_dct)\n",
    "new_Img_30 = restord(inv_dct_30)\n",
    "new_Img_50 = restord(inv_dct_50)\n",
    "new_Img_70 = restord(inv_dct_70)"
   ]
  },
  {
   "cell_type": "code",
   "execution_count": 62,
   "metadata": {},
   "outputs": [
    {
     "data": {
      "text/plain": [
       "array([[129, 129, 131, 130, 130, 130, 129, 128, 126, 127],\n",
       "       [129, 129, 130, 129, 129, 129, 128, 127, 127, 127],\n",
       "       [133, 131, 142, 138, 137, 135, 132, 128, 126, 126],\n",
       "       [131, 130, 138, 134, 134, 132, 130, 127, 126, 126],\n",
       "       [130, 129, 136, 133, 132, 131, 128, 126, 126, 127],\n",
       "       [129, 128, 134, 132, 131, 129, 127, 126, 127, 128],\n",
       "       [129, 128, 131, 129, 128, 127, 126, 127, 128, 128],\n",
       "       [127, 127, 127, 126, 126, 126, 127, 128, 128, 128],\n",
       "       [126, 127, 124, 125, 126, 127, 128, 128, 128, 128],\n",
       "       [126, 127, 125, 126, 127, 127, 128, 128, 128, 128]], dtype=uint8)"
      ]
     },
     "execution_count": 62,
     "metadata": {},
     "output_type": "execute_result"
    }
   ],
   "source": [
    "new_Img[30:40, 30:40]"
   ]
  },
  {
   "cell_type": "markdown",
   "metadata": {},
   "source": [
    "***Result***"
   ]
  },
  {
   "cell_type": "code",
   "execution_count": 63,
   "metadata": {
    "ExecuteTime": {
     "end_time": "2024-04-03T13:13:53.132784Z",
     "start_time": "2024-04-03T13:13:50.024678Z"
    },
    "collapsed": false
   },
   "outputs": [
    {
     "data": {
      "image/png": "[encoded data removed]",
      "text/plain": [
       "<Figure size 1400x1200 with 6 Axes>"
      ]
     },
     "metadata": {},
     "output_type": "display_data"
    }
   ],
   "source": [
    "fig , axe = plt.subplots(nrows=2, ncols=3, figsize=(14, 12))\n",
    "axe[0, 0].imshow(I, cmap=\"gray\");axe[0, 0].axis(\"off\");axe[0, 0].set_title(\"Original\")\n",
    "axe[0, 1].axis(\"off\")\n",
    "axe[0, 2].imshow(new_Img, cmap=\"gray\");axe[0, 2].axis(\"off\");axe[0, 2].set_title(\"apply dct - idct\")\n",
    "axe[1, 0].imshow(new_Img_30, cmap=\"gray\");axe[1, 0].axis(\"off\");axe[1, 0].set_title(\"reconstructed image by energy = 30%\")\n",
    "axe[1, 1].imshow(new_Img_50, cmap=\"gray\");axe[1, 1].axis(\"off\");axe[1, 1].set_title(\"reconstructed image by energy = 50%\")\n",
    "axe[1, 2].imshow(new_Img_70, cmap=\"gray\");axe[1, 2].axis(\"off\");axe[1, 2].set_title(\"reconstructed image by energy = 70%\")\n",
    "plt.tight_layout()\n",
    "plt.show()"
   ]
  },
  {
   "cell_type": "markdown",
   "metadata": {},
   "source": [
    "***Apply zig-zag order***"
   ]
  },
  {
   "cell_type": "code",
   "execution_count": 64,
   "metadata": {
    "ExecuteTime": {
     "end_time": "2024-04-03T13:14:31.125094Z",
     "start_time": "2024-04-03T13:14:31.104208Z"
    }
   },
   "outputs": [],
   "source": [
    "def zigzag(mat):\n",
    "    index_order = sorted(((x, y) for x in range(8) for y in range(8)), key=lambda x: (x[0] + x[1], -x[1] if (x[0] + x[1]) % 2 else x[1]))\n",
    "    arr = np.copy(mat)\n",
    "    order_array = np.zeros((width, height, 64))\n",
    "    for u in range(width):\n",
    "        for v in range(height):\n",
    "            order_array[u, v] = [arr[u, v, i, j] for i, j in index_order]\n",
    "    return order_array\n",
    "\n",
    "orderArray = zigzag(qun)"
   ]
  },
  {
   "cell_type": "code",
   "execution_count": 65,
   "metadata": {
    "ExecuteTime": {
     "end_time": "2024-04-03T13:14:33.287935Z",
     "start_time": "2024-04-03T13:14:33.274828Z"
    }
   },
   "outputs": [],
   "source": [
    "width_o, height_o, deep_o = orderArray.shape\n",
    "DPCM = np.zeros_like(orderArray)\n",
    "for x in range(width_o):\n",
    "    for y in range(height_o) : \n",
    "        if x == 0 and y == 0 : DPCM[x, y, 0] = orderArray[x, y, 0]\n",
    "        elif x == 0 :\n",
    "            sub = orderArray[x, y - 1, 0]\n",
    "            DPCM[x, y, 0] = orderArray[x, y, 0] - sub\n",
    "        elif y == 0 :\n",
    "            sub = orderArray[x - 1, y, 0]\n",
    "            DPCM[x, y, 0] = orderArray[x, y, 0] - sub\n",
    "        else:\n",
    "            sub = orderArray[x - 1, y - 1, 0]\n",
    "            DPCM[x, y, 0] = orderArray[x, y, 0] - sub\n",
    "DPCM = np.round(DPCM)"
   ]
  },
  {
   "cell_type": "code",
   "execution_count": 66,
   "metadata": {
    "ExecuteTime": {
     "end_time": "2024-04-03T13:14:35.662945Z",
     "start_time": "2024-04-03T13:14:35.609515Z"
    }
   },
   "outputs": [],
   "source": [
    "ac = np.zeros_like(DPCM, dtype=object)\n",
    "for x in range(width_o):\n",
    "    for y in range(height_o):\n",
    "        counter_zero = 0\n",
    "        for z in range (deep_o):\n",
    "            if  z == 0:  ac[x, y, z] =int(DPCM[x, y, 0])\n",
    "            elif orderArray[x, y, z] == 0 : counter_zero+=1;continue\n",
    "            else: \n",
    "                ac[x, y, z] = np.array([(counter_zero, int.bit_length(int(orderArray[x, y, z]))), int(orderArray[x, y, z])], dtype=object)\n",
    "                counter_zero = 0\n",
    "        if counter_zero != 0:ac[x, y, -counter_zero] = (0, 0)\n",
    "        elif counter_zero == 63:ac[x, y, 1] = (0, 0)"
   ]
  },
  {
   "cell_type": "code",
   "execution_count": 68,
   "metadata": {
    "ExecuteTime": {
     "end_time": "2024-04-03T13:14:38.272343Z",
     "start_time": "2024-04-03T13:14:38.262302Z"
    }
   },
   "outputs": [],
   "source": [
    "# ac[17, 10]"
   ]
  },
  {
   "cell_type": "code",
   "execution_count": 69,
   "metadata": {
    "ExecuteTime": {
     "end_time": "2024-04-03T13:04:26.520904Z",
     "start_time": "2024-04-03T13:04:26.503655Z"
    }
   },
   "outputs": [],
   "source": [
    "def int_to_custom_binary(n,):\n",
    "    if n == 0: return \"\"\n",
    "    binary = bin(abs(n))[2:]  \n",
    "    if n < 0:binary = binary.replace(\"0\", \"2\").replace(\"1\", \"0\").replace(\"2\", \"1\")\n",
    "    return binary"
   ]
  },
  {
   "cell_type": "code",
   "execution_count": 71,
   "metadata": {
    "ExecuteTime": {
     "end_time": "2024-04-03T14:14:15.369305Z",
     "start_time": "2024-04-03T14:14:15.358355Z"
    },
    "collapsed": false
   },
   "outputs": [],
   "source": [
    "# ac[2, 14]"
   ]
  },
  {
   "cell_type": "code",
   "execution_count": 74,
   "metadata": {
    "ExecuteTime": {
     "end_time": "2024-04-03T14:16:16.574722Z",
     "start_time": "2024-04-03T14:16:16.441515Z"
    },
    "collapsed": false
   },
   "outputs": [],
   "source": [
    "dc_huffman_tables = {\n",
    "    0: \"00\",\n",
    "    1: \"010\",\n",
    "    2: \"011\",\n",
    "    3: \"100\",\n",
    "    4: \"101\",\n",
    "    5: \"110\",\n",
    "    6: \"1110\",\n",
    "    7: \"11110\",\n",
    "    8: \"111110\",\n",
    "    9: \"1111110\",\n",
    "    10: \"11111110\",\n",
    "    11: \"111111110\"}\n",
    "ac_huffman_tables = {\n",
    "    (0, 1): '00',\n",
    "    (0, 2): '01',\n",
    "    (0, 3): '100',\n",
    "    (0, 4): '1011',\n",
    "    (0, 5): '11010',\n",
    "    (0, 6): '1111000',\n",
    "    (0, 7): '11111000',\n",
    "    (0, 8): '1111110110',\n",
    "    (0, 9): '1111111110000010',\n",
    "    (0, 10): '1111111110000011',\n",
    "    (1, 1): '1100',\n",
    "    (1, 2): '11011',\n",
    "    (1, 3): '1111001',\n",
    "    (1, 4): '111110110',\n",
    "    (1, 5): '11111110110',\n",
    "    (1, 6): '1111111110000100',\n",
    "    (1, 7): '1111111110000101',\n",
    "    (1, 8): '1111111110000110',\n",
    "    (1, 9): '1111111110000111',\n",
    "    (1, 10): '1111111110001000',\n",
    "    (2, 1): '11100',\n",
    "    (2, 2): '11111001',\n",
    "    (2, 3): '1111110111',\n",
    "    (2, 4): '111111110100',\n",
    "    (2, 5): '1111111110001001',\n",
    "    (2, 6): '1111111110001010',\n",
    "    (2, 7): '1111111110001011',\n",
    "    (2, 8): '1111111110001100',\n",
    "    (2, 9): '1111111110001101',\n",
    "    (2, 10): '1111111110001110',\n",
    "    (3, 1): '111010',\n",
    "    (3, 2): '111110111',\n",
    "    (3, 3): '111111110101',\n",
    "    (3, 4): '1111111110001111',\n",
    "    (3, 5): '1111111110010000',\n",
    "    (3, 6): '1111111110010001',\n",
    "    (3, 7): '1111111110010010',\n",
    "    (3, 8): '1111111110010011',\n",
    "    (3, 9): '1111111110010100',\n",
    "    (3, 10): '1111111110010101',\n",
    "    (4, 1): '111011',\n",
    "    (4, 2): '1111111000',\n",
    "    (4, 3): '1111111110010110',\n",
    "    (4, 4): '1111111110010111',\n",
    "    (4, 5): '1111111110011000',\n",
    "    (4, 6): '1111111110011001',\n",
    "    (4, 7): '1111111110011010',\n",
    "    (4, 8): '1111111110011011',\n",
    "    (4, 9): '1111111110011100',\n",
    "    (4, 10): '1111111110011101',\n",
    "    (5, 1): '1111010',\n",
    "    (5, 2): '11111110111',\n",
    "    (5, 3): '1111111110011110',\n",
    "    (5, 4): '1111111110011111',\n",
    "    (5, 5): '1111111110100000',\n",
    "    (5, 6): '1111111110100001',\n",
    "    (5, 7): '1111111110100010',\n",
    "    (5, 8): '1111111110100011',\n",
    "    (5, 9): '1111111110100100',\n",
    "    (5, 10): '1111111110100101',\n",
    "    (6, 1): '1111011',\n",
    "    (6, 2): '111111110110',\n",
    "    (6, 3): '1111111110100110',\n",
    "    (6, 4): '1111111110100111',\n",
    "    (6, 5): '1111111110101000',\n",
    "    (6, 6): '1111111110101001',\n",
    "    (6, 7): '1111111110101010',\n",
    "    (6, 8): '1111111110101011',\n",
    "    (6, 9): '1111111110101100',\n",
    "    (6, 10): '1111111110101101',\n",
    "    (7, 1): '11111010',\n",
    "    (7, 2): '111111110111',\n",
    "    (7, 3): '1111111110101110',\n",
    "    (7, 4): '1111111110101111',\n",
    "    (7, 5): '1111111110110000',\n",
    "    (7, 6): '1111111110110001',\n",
    "    (7, 7): '1111111110110010',\n",
    "    (7, 8): '1111111110110011',\n",
    "    (7, 9): '1111111110110100',\n",
    "    (7, 10): '1111111110110101',\n",
    "    (8, 1): '111111000',\n",
    "    (8, 2): '111111111000000',\n",
    "    (8, 3): '1111111110110110',\n",
    "    (8, 4): '1111111110110111',\n",
    "    (8, 5): '1111111110111000',\n",
    "    (8, 6): '1111111110111001',\n",
    "    (8, 7): '1111111110111010',\n",
    "    (8, 8): '1111111110111011',\n",
    "    (8, 9): '1111111110111100',\n",
    "    (8, 10): '1111111110111101',\n",
    "    (9, 1): '111111001',\n",
    "    (9, 2): '1111111110111110',\n",
    "    (9, 3): '1111111110111111',\n",
    "    (9, 4): '1111111111000000',\n",
    "    (9, 5): '1111111111000001',\n",
    "    (9, 6): '1111111111000010',\n",
    "    (9, 7): '1111111111000011',\n",
    "    (9, 8): '1111111111000100',\n",
    "    (9, 9): '1111111111000101',\n",
    "    (9, 10): '1111111111000110',\n",
    "    (10, 1): '111111010',\n",
    "    (10, 2): \"1111111111010000\",\n",
    "    (10, 3): \"1111111111010001\",\n",
    "    (10, 4): \"1111111111010010\",\n",
    "    (10, 5): \"1111111111010011\",\n",
    "    (10, 6): \"1111111111010100\",\n",
    "    (10, 7): \"1111111111010101\",\n",
    "    (10, 8): \"1111111111010110\",\n",
    "    (10, 9): \"1111111111010111\",\n",
    "    (10, 10): \"1111111111011000\",\n",
    "    (11, 1): \"11111111000\",\n",
    "    (11, 2): \"1111111111011001\",\n",
    "    (11, 3): \"1111111111011010\",\n",
    "    (11, 4): \"1111111111011011\",\n",
    "    (11, 5): \"1111111111011100\",\n",
    "    (11, 6): \"1111111111011101\",\n",
    "    (11, 7): \"1111111111011110\",\n",
    "    (11, 8): \"1111111111011111\",\n",
    "    (11, 9): \"1111111111100000\",\n",
    "    (11, 10): \"1111111111100001\",\n",
    "    (12, 1): \"1111111111100010\",\n",
    "    (11, 8): \"1111111111011111\",\n",
    "    (11, 9): \"1111111111100000\",\n",
    "    (11, 10): \"1111111111100001\",\n",
    "    (12, 1): \"1111111111100010\",\n",
    "    (12, 2): \"1111111111100011\",\n",
    "    (12, 3): \"1111111111100100\",\n",
    "    (12, 4): \"1111111111100101\",\n",
    "    (12, 5): \"1111111111100110\",\n",
    "    (12, 6): \"1111111111100111\",\n",
    "    (12, 7): \"1111111111101000\",\n",
    "    (12, 8): \"1111111111101001\",\n",
    "    (12, 9): \"1111111111101010\",\n",
    "    (12, 10): \"1111111111101011\",\n",
    "    (13, 1): \"1111111111101100\",\n",
    "    (13, 2): \"1111111111101101\",\n",
    "    (13, 3): \"1111111111101110\",\n",
    "    (13, 4): \"1111111111101111\",\n",
    "    (13, 5): \"1111111111110000\",\n",
    "    (13, 6): \"1111111111110001\",\n",
    "    (13, 7): \"1111111111110010\",\n",
    "    (13, 8): \"1111111111110011\",\n",
    "    (13, 9): \"1111111111110100\",\n",
    "    (13, 10): \"1111111111110101\",\n",
    "    (14, 1): \"1111111111110110\",\n",
    "    (14, 2): \"1111111111110111\",\n",
    "    (14, 3): \"1111111111111000\",\n",
    "    (14, 4): \"1111111111111001\",\n",
    "    (14, 5): \"1111111111111010\",\n",
    "    (14, 6): \"1111111111111011\",\n",
    "    (14, 7): \"1111111111111100\",\n",
    "    (14, 8): \"1111111111111101\",\n",
    "    (14, 9): \"1111111111111110\",\n",
    "    (14, 10): \"1111111111111111\",\n",
    "    (15, 0): \"11111111001\"}"
   ]
  },
  {
   "cell_type": "code",
   "execution_count": 80,
   "metadata": {
    "ExecuteTime": {
     "start_time": "2024-04-03T14:16:37.457111Z"
    },
    "collapsed": false,
    "is_executing": true
   },
   "outputs": [
    {
     "name": "stdout",
     "output_type": "stream",
     "text": [
      "[(2, 5) -17]\n"
     ]
    },
    {
     "ename": "OverflowError",
     "evalue": "int too big to convert",
     "output_type": "error",
     "traceback": [
      "\u001b[1;31m---------------------------------------------------------------------------\u001b[0m",
      "\u001b[1;31mOverflowError\u001b[0m                             Traceback (most recent call last)",
      "Cell \u001b[1;32mIn[80], line 19\u001b[0m\n\u001b[0;32m     17\u001b[0m     \u001b[38;5;28mprint\u001b[39m(ac[x, y, z])\n\u001b[0;32m     18\u001b[0m \u001b[38;5;28;01mfinally\u001b[39;00m:\n\u001b[1;32m---> 19\u001b[0m     \u001b[43mencode\u001b[49m\u001b[43m[\u001b[49m\u001b[43mx\u001b[49m\u001b[43m,\u001b[49m\u001b[43m \u001b[49m\u001b[43my\u001b[49m\u001b[43m,\u001b[49m\u001b[43m \u001b[49m\u001b[43mz\u001b[49m\u001b[43m]\u001b[49m \u001b[38;5;241m=\u001b[39m \u001b[38;5;28mint\u001b[39m(ac_huffman_tables[ac[x, y, z][\u001b[38;5;241m0\u001b[39m]] \u001b[38;5;241m+\u001b[39m int_to_custom_binary(ac[x, y, z][\u001b[38;5;241m1\u001b[39m]))\n",
      "\u001b[1;31mOverflowError\u001b[0m: int too big to convert"
     ]
    }
   ],
   "source": [
    "import sys\n",
    "sys.set_int_max_str_digits(99999999)\n",
    "\n",
    "encode = np.zeros_like(ac, dtype = np.int64)\n",
    "for x in range(width_o):\n",
    "    for y in range(height_o):\n",
    "        for z in range (deep_o):\n",
    "            if z == 0: encode[x, y, z] = int(int_to_custom_binary(ac[x, y, z],) + dc_huffman_tables[int.bit_length(ac[0, 0, 0])])\n",
    "            elif type(ac[x, y, z]) is tuple and ac[x, y, z] == (0, 0):encode[x, y, z] = 1010;break\n",
    "            elif type(ac[x, y, z]) is not np.ndarray and ac[x, y, z] == 0  : continue\n",
    "            else:\n",
    "                if ac[x, y, z][0][0]>15:int(\"11111111001\" + int_to_custom_binary(ac[x, y, z][1]))\n",
    "                else:\n",
    "                    try :\n",
    "                        encode[x, y, z] = int(ac_huffman_tables[ac[x, y, z][0]] + int_to_custom_binary(ac[x, y, z][1]))\n",
    "                    except:\n",
    "                        print(ac[x, y, z])"
   ]
  },
  {
   "cell_type": "code",
   "execution_count": 77,
   "metadata": {
    "ExecuteTime": {
     "end_time": "2024-04-03T13:04:26.570465Z",
     "start_time": "2024-04-03T13:04:26.569234Z"
    },
    "collapsed": false
   },
   "outputs": [
    {
     "name": "stdout",
     "output_type": "stream",
     "text": [
      "3\n"
     ]
    }
   ],
   "source": [
    "class BinaryTreeNode:\n",
    "    def __init__(self, value):\n",
    "        self.value = value\n",
    "        self.left = None\n",
    "        self.right = None\n",
    "tree = BinaryTreeNode(5)\n",
    "tree.left = BinaryTreeNode(4)\n",
    "tree.left.left = BinaryTreeNode(3)\n",
    "tree.left.right = BinaryTreeNode(7)\n",
    "tree.right = BinaryTreeNode(3)\n",
    "tree.right.left = BinaryTreeNode(1)\n",
    "tree.right.right = BinaryTreeNode(2)\n",
    "def orderT (tree):\n",
    "    if tree.left is not None:\n",
    "        return orderT (tree.left)\n",
    "    elif tree.right is not None:\n",
    "        return orderT(tree.right)\n",
    "    else: print (tree.value)\n",
    "orderT(tree)"
   ]
  },
  {
   "cell_type": "code",
   "execution_count": null,
   "metadata": {
    "collapsed": false
   },
   "outputs": [],
   "source": []
  }
 ],
 "metadata": {
  "kernelspec": {
   "display_name": "Python 3",
   "language": "python",
   "name": "python3"
  },
  "language_info": {
   "codemirror_mode": {
    "name": "ipython",
    "version": 3
   },
   "file_extension": ".py",
   "mimetype": "text/x-python",
   "name": "python",
   "nbconvert_exporter": "python",
   "pygments_lexer": "ipython3",
   "version": "3.11.8"
  }
 },
 "nbformat": 4,
 "nbformat_minor": 2
}
