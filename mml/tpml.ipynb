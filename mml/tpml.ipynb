{
  "cells": [
    {
      "cell_type": "code",
      "execution_count": 5,
      "metadata": {
        "id": "p5bacn2AYXEX"
      },
      "outputs": [],
      "source": [
        "import numpy as np\n",
        "from sympy import Matrix, symbols, solve, expand, lambdify\n",
        "from scipy.optimize import newton"
      ]
    },
    {
      "cell_type": "code",
      "execution_count": 6,
      "metadata": {
        "colab": {
          "background_save": true,
          "base_uri": "https://localhost:8080/"
        },
        "id": "ktEHqLrbYXEh",
        "outputId": "b03c2fc7-16fb-418f-de6e-52dfc89f9fe4"
      },
      "outputs": [
        {
          "data": {
            "text/plain": [
              "array([[ 0.,  0.,  2.,  0.],\n",
              "       [ 1.,  0.,  1.,  0.],\n",
              "       [ 0.,  1., -2.,  0.],\n",
              "       [ 0.,  0.,  0.,  1.]])"
            ]
          },
          "execution_count": 6,
          "metadata": {},
          "output_type": "execute_result"
        }
      ],
      "source": [
        "d = int(input(\"enter dimention of matrix : \"))\n",
        "answer = input(\"do you want fill it by yourself or random : \")\n",
        "if answer[0] == \"y\" or answer[0] == \"Y\" :\n",
        "    mat = np.ones((d, d))\n",
        "    for i in range(d):\n",
        "        for j in range(d):\n",
        "            mat[i, j] = int(input(f\"enter element [{i}, {j}] : \"))\n",
        "else : mat = np.random.randint(0, 10, size=(d, d))\n",
        "mat"
      ]
    },
    {
      "cell_type": "code",
      "execution_count": 7,
      "metadata": {
        "colab": {
          "base_uri": "https://localhost:8080/"
        },
        "id": "n3c8zae_YXEm",
        "outputId": "405a0984-7b73-45f8-ca09-80b3fadce74f"
      },
      "outputs": [
        {
          "data": {
            "text/plain": [
              "-1.0"
            ]
          },
          "execution_count": 7,
          "metadata": {},
          "output_type": "execute_result"
        }
      ],
      "source": [
        "tr = 0\n",
        "for i in range(d):\n",
        "    tr = mat[i, i] + tr\n",
        "tr"
      ]
    },
    {
      "cell_type": "code",
      "execution_count": 8,
      "metadata": {
        "id": "ymdtcN2ZYXEo"
      },
      "outputs": [],
      "source": [
        "def determent(arr):\n",
        "  new = np.concatenate([arr, arr], axis = 1)\n",
        "  det = 0\n",
        "  for i in range(len(arr)):\n",
        "    s1, s2 = 1, 1\n",
        "    for j in range(len(arr)):\n",
        "      s1 = new[j, j+i] * s1\n",
        "      # print (f\"the new[{j}, {j+i}] first : {new[j, j+i]} ,     the s1 ->: {s1}\")\n",
        "      s2 = new[j, len(new) - j - i - 1] * s2\n",
        "      # print (f\"the new[{j}, {len(new) - j - i -1}] seconed: {new[j, len(new) - j - i - 1]},     the s2 ->: {s2}\")\n",
        "    det = s1 - s2 + det\n",
        "    # print (\"the det ==\", det)\n",
        "  # print (\"the new :\\n\", arr)\n",
        "  # print (\"the det = \", end= \" \")\n",
        "  return expand(det)"
      ]
    },
    {
      "cell_type": "code",
      "execution_count": 9,
      "metadata": {
        "id": "R-awGpAvMzRS"
      },
      "outputs": [],
      "source": [
        "def det2 (arr2d):\n",
        "  return arr2d[0, 0] * arr2d[1, 1] - arr2d[0, 1] * arr2d[1, 0]\n",
        "def detnD(arrnd):\n",
        "  if arrnd.shape[1] == 2:\n",
        "    return expand(det2(arrnd))\n",
        "  elif arrnd.shape[1] == 3:\n",
        "    resDet = (((-1)**2 * arrnd[0, 0] * det2(arrnd[1:, 1:])) + ((-1)**3 * arrnd[1, 0] * det2(arrnd[[0,2], 1:])) + ((-1)**4 * arrnd[2, 0] * det2(arrnd[0:2, 1:])))\n",
        "    return expand(resDet)\n",
        "  else:\n",
        "    sSum = 0\n",
        "    for i in range (arrnd.shape[0]):\n",
        "      sSum = sSum + (((-1)**(2 + i)) * arrnd[i, 0] * detnD(arrnd[[k for k in range(arrnd.shape[0]) if k != i], 1:]))\n",
        "    return  expand(sSum)"
      ]
    },
    {
      "cell_type": "code",
      "execution_count": 10,
      "metadata": {
        "colab": {
          "base_uri": "https://localhost:8080/",
          "height": 37
        },
        "id": "NocrumSr9EAw",
        "outputId": "7cb00d2a-1959-4bd3-c1e3-3c9fc02c69b3"
      },
      "outputs": [
        {
          "data": {
            "text/latex": [
              "$\\displaystyle 2.0$"
            ],
            "text/plain": [
              "2.00000000000000"
            ]
          },
          "execution_count": 10,
          "metadata": {},
          "output_type": "execute_result"
        }
      ],
      "source": [
        "detnD(mat)"
      ]
    },
    {
      "cell_type": "code",
      "execution_count": 11,
      "metadata": {
        "colab": {
          "base_uri": "https://localhost:8080/",
          "height": 37
        },
        "id": "TsZq6Dx39GLQ",
        "outputId": "30853a69-fe47-4ccd-d221-12e42ed2cd2b"
      },
      "outputs": [
        {
          "data": {
            "text/latex": [
              "$\\displaystyle 0.0$"
            ],
            "text/plain": [
              "0.0"
            ]
          },
          "execution_count": 11,
          "metadata": {},
          "output_type": "execute_result"
        }
      ],
      "source": [
        "determent(mat)"
      ]
    },
    {
      "cell_type": "code",
      "execution_count": 12,
      "metadata": {
        "colab": {
          "base_uri": "https://localhost:8080/"
        },
        "id": "ZiJO2FJuYXE1",
        "outputId": "87143489-f6b9-43df-91b3-35ed4f63fbfb"
      },
      "outputs": [
        {
          "data": {
            "text/plain": [
              "array([[-1.0*λ, 0, 2.00000000000000, 0],\n",
              "       [1.00000000000000, -1.0*λ, 1.00000000000000, 0],\n",
              "       [0, 1.00000000000000, -1.0*λ - 2.0, 0],\n",
              "       [0, 0, 0, 1.0 - 1.0*λ]], dtype=object)"
            ]
          },
          "execution_count": 12,
          "metadata": {},
          "output_type": "execute_result"
        }
      ],
      "source": [
        "λ = symbols('λ')\n",
        "matλ = np.multiply(np.eye(d), λ)\n",
        "test = mat - matλ\n",
        "test"
      ]
    },
    {
      "cell_type": "code",
      "execution_count": 13,
      "metadata": {
        "colab": {
          "base_uri": "https://localhost:8080/",
          "height": 39
        },
        "id": "wfD7ZdL1YXE3",
        "outputId": "ec94afdd-f172-44dd-e1e2-5902fec18577"
      },
      "outputs": [
        {
          "data": {
            "text/latex": [
              "$\\displaystyle 1.0 λ^{4} + 1.0 λ^{3} - 2.0 λ^{2}$"
            ],
            "text/plain": [
              "1.0*λ**4 + 1.0*λ**3 - 2.0*λ**2"
            ]
          },
          "execution_count": 13,
          "metadata": {},
          "output_type": "execute_result"
        }
      ],
      "source": [
        "determent(test)"
      ]
    },
    {
      "cell_type": "code",
      "execution_count": 14,
      "metadata": {
        "colab": {
          "base_uri": "https://localhost:8080/",
          "height": 39
        },
        "id": "-2ThsPkCsyze",
        "outputId": "21f82f98-33a5-4a57-a6e6-1feddce03deb"
      },
      "outputs": [
        {
          "data": {
            "text/latex": [
              "$\\displaystyle 1.0 λ^{4} + 1.0 λ^{3} - 3.0 λ^{2} - 1.0 λ + 2.0$"
            ],
            "text/plain": [
              "1.0*λ**4 + 1.0*λ**3 - 3.0*λ**2 - 1.0*λ + 2.0"
            ]
          },
          "execution_count": 14,
          "metadata": {},
          "output_type": "execute_result"
        }
      ],
      "source": [
        "resu = detnD(test)\n",
        "resu"
      ]
    },
    {
      "cell_type": "code",
      "execution_count": 26,
      "metadata": {
        "colab": {
          "base_uri": "https://localhost:8080/"
        },
        "id": "cQLNwK7Shagw",
        "outputId": "672c0fe7-3ba8-4b5f-b36c-0ed11e8689ec"
      },
      "outputs": [
        {
          "data": {
            "text/plain": [
              "[-2.00000000000000, -1.00000000000000, 1.00000000000000]"
            ]
          },
          "execution_count": 26,
          "metadata": {},
          "output_type": "execute_result"
        }
      ],
      "source": [
        "roots = solve(resu, λ)\n",
        "roots"
      ]
    },
    {
      "cell_type": "code",
      "execution_count": 16,
      "metadata": {
        "colab": {
          "background_save": true
        },
        "id": "8fKP3ZSY5xFh",
        "outputId": "5903af21-9e53-4ccf-aaed-7cc94b62194e"
      },
      "outputs": [
        {
          "data": {
            "text/latex": [
              "$\\displaystyle 0$"
            ],
            "text/plain": [
              "0"
            ]
          },
          "execution_count": 16,
          "metadata": {},
          "output_type": "execute_result"
        }
      ],
      "source": [
        "te = resu.subs(λ, roots[1])\n",
        "te"
      ]
    },
    {
      "cell_type": "code",
      "execution_count": 17,
      "metadata": {
        "id": "hndSfjw1F4nR"
      },
      "outputs": [
        {
          "name": "stdout",
          "output_type": "stream",
          "text": [
            "The value of the polynomial at x = 2 is: 12.0\n"
          ]
        }
      ],
      "source": [
        "polynomial_func = lambdify(λ, resu, 'numpy')\n",
        "x_value = 2\n",
        "result_at_x_value = polynomial_func(x_value)\n",
        "print(f\"The value of the polynomial at x = {x_value} is:\", result_at_x_value)\n"
      ]
    },
    {
      "cell_type": "code",
      "execution_count": 19,
      "metadata": {
        "id": "oYFdBSAYaINh"
      },
      "outputs": [
        {
          "data": {
            "text/latex": [
              "$\\displaystyle \\left[\\begin{matrix}x_{1}\\\\x_{2}\\\\x_{3}\\\\x_{4}\\end{matrix}\\right]$"
            ],
            "text/plain": [
              "Matrix([\n",
              "[x1],\n",
              "[x2],\n",
              "[x3],\n",
              "[x4]])"
            ]
          },
          "execution_count": 19,
          "metadata": {},
          "output_type": "execute_result"
        }
      ],
      "source": [
        "x = Matrix(symbols([[f\"x{i+1}\"] for i in range(d)]))\n",
        "x"
      ]
    },
    {
      "cell_type": "code",
      "execution_count": 21,
      "metadata": {},
      "outputs": [
        {
          "data": {
            "text/latex": [
              "$\\displaystyle \\left[\\begin{matrix}2.0 x_{1} + 2.0 x_{3}\\\\1.0 x_{1} + 2.0 x_{2} + 1.0 x_{3}\\\\1.0 x_{2}\\\\3.0 x_{4}\\end{matrix}\\right]$"
            ],
            "text/plain": [
              "Matrix([\n",
              "[         2.0*x1 + 2.0*x3],\n",
              "[1.0*x1 + 2.0*x2 + 1.0*x3],\n",
              "[                  1.0*x2],\n",
              "[                  3.0*x4]])"
            ]
          },
          "execution_count": 21,
          "metadata": {},
          "output_type": "execute_result"
        }
      ],
      "source": [
        "Mat = (mat - np.multiply(np.eye(d), roots[0]))*x\n",
        "Mat"
      ]
    },
    {
      "cell_type": "code",
      "execution_count": 27,
      "metadata": {},
      "outputs": [
        {
          "data": {
            "text/plain": [
              "{x1: -x3, x2: 0.0, x4: 0.0}"
            ]
          },
          "execution_count": 27,
          "metadata": {},
          "output_type": "execute_result"
        }
      ],
      "source": [
        "eginvector = solve(Mat, x)\n",
        "eginvector"
      ]
    }
  ],
  "metadata": {
    "colab": {
      "provenance": []
    },
    "kernelspec": {
      "display_name": "Python 3",
      "language": "python",
      "name": "python3"
    },
    "language_info": {
      "codemirror_mode": {
        "name": "ipython",
        "version": 3
      },
      "file_extension": ".py",
      "mimetype": "text/x-python",
      "name": "python",
      "nbconvert_exporter": "python",
      "pygments_lexer": "ipython3",
      "version": "3.12.2"
    }
  },
  "nbformat": 4,
  "nbformat_minor": 0
}
